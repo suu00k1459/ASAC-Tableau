{
 "cells": [
  {
   "cell_type": "markdown",
   "metadata": {
    "id": "fsTPqgvgrjCg"
   },
   "source": [
    "# 1.\n",
    "주어진 문자열에서 숫자만 선택해서, 숫자들의 합을 출력하는 함수를 만들어보세요!! <br>\n",
    "예) \"asd22fq!23f\" : 9 (출력 내용 설명 : 2+2+2+3 = 9 )<br>\n",
    "예) \"asdfq!d\" : 0 ( 출력 내용 설명 : 숫자가 없으면 0을 출력하세요 )"
   ]
  },
  {
   "cell_type": "code",
   "execution_count": null,
   "metadata": {
    "id": "ZjP1_s1-r4d3"
   },
   "outputs": [],
   "source": [
    "# solution1 함수 작성\n",
    "\n",
    "import re\n",
    "\n",
    "def solution1(st):\n",
    "  return sum(map(int,re.findall(r'\\d',st)))"
   ]
  },
  {
   "cell_type": "code",
   "execution_count": null,
   "metadata": {
    "colab": {
     "base_uri": "https://localhost:8080/"
    },
    "id": "qAeCFX9hr5cu",
    "outputId": "4eef8764-b338-4c7c-95ec-8d48fefd5ccc"
   },
   "outputs": [
    {
     "data": {
      "text/plain": [
       "9"
      ]
     },
     "execution_count": 6,
     "metadata": {},
     "output_type": "execute_result"
    }
   ],
   "source": [
    "input_1 = \"asd22fq!23f\"\n",
    "solution1(input_1)"
   ]
  },
  {
   "cell_type": "code",
   "execution_count": null,
   "metadata": {
    "colab": {
     "base_uri": "https://localhost:8080/"
    },
    "id": "3ITpNUGStWcQ",
    "outputId": "3f39f283-95e5-4469-8118-1a829e2c9f75"
   },
   "outputs": [
    {
     "data": {
      "text/plain": [
       "0"
      ]
     },
     "execution_count": 7,
     "metadata": {},
     "output_type": "execute_result"
    }
   ],
   "source": [
    "input_2 = \"asdasdsdsds\"\n",
    "solution1(input_2)"
   ]
  },
  {
   "cell_type": "code",
   "execution_count": null,
   "metadata": {
    "id": "dsccyeght2mU"
   },
   "outputs": [],
   "source": []
  },
  {
   "cell_type": "markdown",
   "metadata": {
    "id": "1f5fnjqMuBUu"
   },
   "source": [
    "# 2.\n",
    "* 입력으로는 리스트, 튜플이 들어어는데, 이들 중에서 제일 큰 값을 찾아서 출력으로 내보내세요!!<br>\n",
    "\n",
    "예) 입력 : (5, (1,2), [[1],[2],[3])  \n",
    "출력 5 <br>\n",
    "예) 입력 : (100, (200,2), [[132],[900]])   \n",
    "출력: 900 <br>\n",
    "예) 입력 : [1, [2, [3, [4, [5, 6,[[[[[[99]]]]]]]]]]]     \n",
    "출력 : 99\n",
    "\n",
    "참고) 개별 원소에 대한 접근에 대해서 고민을 해야함!!!"
   ]
  },
  {
   "cell_type": "code",
   "execution_count": null,
   "metadata": {
    "id": "OoehNdf5x3Mu"
   },
   "outputs": [],
   "source": [
    "# solution2 함수 작성\n",
    "import re\n",
    "\n",
    "def solution2(lst):\n",
    "  strings = str(lst)\n",
    "  new= re.sub(r'[\\(\\)\\[\\]]',\"\",strings)\n",
    "  new = new.split(',')\n",
    "\n",
    "  new = [i.replace(\" \",\"\") for i in new]\n",
    "  return int(max(new))\n"
   ]
  },
  {
   "cell_type": "code",
   "execution_count": null,
   "metadata": {
    "colab": {
     "base_uri": "https://localhost:8080/"
    },
    "id": "i0w6azu6t2rj",
    "outputId": "e3c4b81b-978e-4c2a-ecd0-714b84687d69"
   },
   "outputs": [
    {
     "data": {
      "text/plain": [
       "5"
      ]
     },
     "execution_count": 17,
     "metadata": {},
     "output_type": "execute_result"
    }
   ],
   "source": [
    "int_case1 =  (5, (1,2), [[1],[2],[3]])\n",
    "solution2(int_case1)"
   ]
  },
  {
   "cell_type": "code",
   "execution_count": null,
   "metadata": {
    "colab": {
     "base_uri": "https://localhost:8080/"
    },
    "id": "L-8igM3ZwrfX",
    "outputId": "9f184e01-48f1-40d6-a503-591f7c86709b"
   },
   "outputs": [
    {
     "data": {
      "text/plain": [
       "900"
      ]
     },
     "execution_count": 200,
     "metadata": {},
     "output_type": "execute_result"
    }
   ],
   "source": [
    "int_case2 =  (100, (200,2), [[132],[900]])\n",
    "solution2(int_case2)"
   ]
  },
  {
   "cell_type": "code",
   "execution_count": null,
   "metadata": {
    "colab": {
     "base_uri": "https://localhost:8080/"
    },
    "id": "g8G8roAdwvnh",
    "outputId": "8eaaf3e3-7c68-4d12-e817-abfd6514ec74"
   },
   "outputs": [
    {
     "data": {
      "text/plain": [
       "0"
      ]
     },
     "execution_count": 19,
     "metadata": {},
     "output_type": "execute_result"
    }
   ],
   "source": [
    "int_case3 =  (0, (0,0), [0] )\n",
    "solution2(int_case3)"
   ]
  },
  {
   "cell_type": "code",
   "execution_count": null,
   "metadata": {
    "colab": {
     "base_uri": "https://localhost:8080/"
    },
    "id": "sbRKnODjyZgk",
    "outputId": "06563a0a-e7fd-49a7-b4ee-71bdd1950813"
   },
   "outputs": [
    {
     "data": {
      "text/plain": [
       "99"
      ]
     },
     "execution_count": 21,
     "metadata": {},
     "output_type": "execute_result"
    }
   ],
   "source": [
    "int_case4 = [1, [2, [3, [4, [5, 6,[[[[[[99]]]]]]]]]]]\n",
    "solution2(int_case4)"
   ]
  },
  {
   "cell_type": "code",
   "execution_count": null,
   "metadata": {
    "id": "Eq3EPtkKypW_"
   },
   "outputs": [],
   "source": []
  },
  {
   "cell_type": "markdown",
   "metadata": {
    "id": "hHZTV1_OzvWc"
   },
   "source": [
    "# 3.\n",
    "주어진 영어(대문자/소문자/문장부호)문자열에 대해서 a,e,i문자만 제거해서 출력하는 함수를 만드세요<br>\n",
    "예) <br>\n",
    "입력 \"This is great!\" <br>\n",
    "출력 : \"Ths s grt!\"\n",
    "<br>\n",
    "예) <br>\n",
    "입력 : \"Hi My Name is Hong Gil-Dong\"<br>\n",
    "출력 : \"H My Nm s Hong Gl-Dong\"<br>\n",
    "예) <br>\n",
    "입력 : \"HI MY NAME IS HONG GIL-DONG\"<br>\n",
    "출력 : \"H MY NM S HONG GL-DONG\"<br>\n",
    "*주의!!) 대소문자 모두에 해당함!!!\n"
   ]
  },
  {
   "cell_type": "code",
   "execution_count": null,
   "metadata": {
    "id": "l76ZHJs4hL15"
   },
   "outputs": [],
   "source": [
    "# solution3 함수 작성\n",
    "import re\n",
    "def solution3(st):\n",
    "  return re.sub(r'[\"a\",\"A\",\"e\",\"E\",\"i\",\"I\"]',\"\",st)"
   ]
  },
  {
   "cell_type": "code",
   "execution_count": null,
   "metadata": {
    "colab": {
     "base_uri": "https://localhost:8080/",
     "height": 35
    },
    "id": "2Lky_B9C0cfk",
    "outputId": "4ca7bfcf-55a6-4aac-aaae-0b3d3cb820b5"
   },
   "outputs": [
    {
     "data": {
      "application/vnd.google.colaboratory.intrinsic+json": {
       "type": "string"
      },
      "text/plain": [
       "'Ths s grt!'"
      ]
     },
     "execution_count": 33,
     "metadata": {},
     "output_type": "execute_result"
    }
   ],
   "source": [
    "input_str1 = \"This is great!\"\n",
    "solution3(input_str1)"
   ]
  },
  {
   "cell_type": "code",
   "execution_count": null,
   "metadata": {
    "id": "BXkvQjkthmRX"
   },
   "outputs": [],
   "source": [
    "input_str2 = \"Hi My Name is Hong Gil-Dong\"\n",
    "solution3(input_str2)"
   ]
  },
  {
   "cell_type": "code",
   "execution_count": null,
   "metadata": {
    "colab": {
     "base_uri": "https://localhost:8080/",
     "height": 35
    },
    "id": "rEXYBv44142-",
    "outputId": "461fcb2b-8b7d-4933-f49f-6e44898bcb4e"
   },
   "outputs": [
    {
     "data": {
      "application/vnd.google.colaboratory.intrinsic+json": {
       "type": "string"
      },
      "text/plain": [
       "'H MY NM S HONG GL-DONG'"
      ]
     },
     "execution_count": 35,
     "metadata": {},
     "output_type": "execute_result"
    }
   ],
   "source": [
    "input_str3 = \"HI MY NAME IS HONG GIL-DONG\"\n",
    "solution3(input_str3)"
   ]
  },
  {
   "cell_type": "code",
   "execution_count": null,
   "metadata": {
    "id": "A0hjHhY1147w"
   },
   "outputs": [],
   "source": []
  },
  {
   "cell_type": "markdown",
   "metadata": {
    "id": "BS3BX51u2JzM"
   },
   "source": [
    "# 4.\n",
    "주어진 Dict의 자료형에 대해서, 주어진 기존의  Dict의 값과 키값을 변경을 하고( 기존 키 --> 신규 값, 기존 값 --> 신규 키), 값이 작은 순서대로 Dict에 입력하세요!!!<br>\n",
    "주의!!) 값이 중첩이 되는 경우들이 있을 수 있으므로, 새롭게 형성하는 Dict의 Value에는 자료형을 리스트로 구성하세요.<br>\n",
    "주의!!) 변경을 한 value에서 자료형은 리스트인데, 그 안의 값들이 2개 이상이 있을 경우에서는 작은 값을 앞에, 큰 값을 뒤로 나타날 수 있도록 하세요. <br>\n",
    "\n",
    "예) <br>\n",
    "입력 :  d = {1:10, 2:20, 3:30} <br>\n",
    "출력 :  {10: [1], 20: [2], 30: [3]} <br>\n",
    "설명 : 기존의 키 1과 값10이 있는데, 이것을 변경하여 키 10, 값은 '리스트'인 [1]로 변환하여 처리를 함. 그리고 변경이 된 Dict의 Value에는 1개의 값들만 있어서, 따로 정렬처리를 하지 않음!\n",
    "\n",
    "예) <br>\n",
    "입력 : d = {1:40, 2:10, 3:20, 6:30, 5:30, 4:30} <br>\n",
    "출력 : {40: [1], 10: [2], 20: [3], 30: [4, 5, 6]} <br>\n",
    "설명 : 일단 예제1번과 같은 변환이면서, 기존의 Dict의 값이 30인 경우가 3가지 있고( 6:30, 5:30, 4:30)이것을 반대로 변환을 하면 값인 30이 같고, 이것을 동일한 키로 설정을 하고, 기존의 키6,5,4를 묶어서 신규 Dict의 value에 여러개의 값이 들어가므로, 값의 순서를 반영하여 [4,5,6]으로 되어야 함. [6,5,4]로 해서는 안 됨!!!!!. <br>\n",
    "앞에서와 같이, 신규 Dict의 value에 2개 이상값이 있을 때 작은 순서대로 정렬이 되어야 함\n",
    "\n",
    "예) <br>\n",
    "입력 : {1:10, 2:10, 3:10}<br>\n",
    "출력 : {10:[1,2,3} <br>\n"
   ]
  },
  {
   "cell_type": "code",
   "execution_count": 1,
   "metadata": {
    "id": "Hpsu6GpE3zBl"
   },
   "outputs": [],
   "source": [
    "# solution4 함수 작성\n",
    "def solution4(d):\n",
    "  new = {}\n",
    "\n",
    "  for i,v in d.items():\n",
    "    if v not in new:\n",
    "      new[v] =[i]\n",
    "    else:\n",
    "      new[v].append(i)\n",
    "      new[v].sort()\n",
    "\n",
    "  return new\n"
   ]
  },
  {
   "cell_type": "code",
   "execution_count": null,
   "metadata": {
    "colab": {
     "base_uri": "https://localhost:8080/"
    },
    "id": "8ygE5XIV3zEU",
    "outputId": "e3cd80df-43fa-4672-b82e-4ffdc946c8a3"
   },
   "outputs": [
    {
     "data": {
      "text/plain": [
       "{10: [1], 20: [2], 30: [3]}"
      ]
     },
     "execution_count": 43,
     "metadata": {},
     "output_type": "execute_result"
    }
   ],
   "source": [
    "input_dict1 =  {1:10, 2:20, 3:30}\n",
    "solution4(input_dict1)"
   ]
  },
  {
   "cell_type": "code",
   "execution_count": null,
   "metadata": {
    "colab": {
     "base_uri": "https://localhost:8080/"
    },
    "id": "TltBC88g3zG1",
    "outputId": "f581873e-7766-4027-ff2c-40884156e517"
   },
   "outputs": [
    {
     "data": {
      "text/plain": [
       "{40: [1], 10: [2], 20: [3], 30: [4, 5, 6]}"
      ]
     },
     "execution_count": 47,
     "metadata": {},
     "output_type": "execute_result"
    }
   ],
   "source": [
    "input_dict2 =  {1:40, 2:10, 3:20, 6:30, 5:30, 4:30}\n",
    "solution4(input_dict2)"
   ]
  },
  {
   "cell_type": "code",
   "execution_count": null,
   "metadata": {
    "colab": {
     "base_uri": "https://localhost:8080/"
    },
    "id": "tWtCBiwN4WRM",
    "outputId": "9a70ba05-e6a1-41a2-e70a-723744a2a012"
   },
   "outputs": [
    {
     "data": {
      "text/plain": [
       "{10: [1, 2, 3]}"
      ]
     },
     "execution_count": 45,
     "metadata": {},
     "output_type": "execute_result"
    }
   ],
   "source": [
    "input_dict3=  {1:10, 2:10, 3:10}\n",
    "solution4(input_dict3)"
   ]
  },
  {
   "cell_type": "code",
   "execution_count": null,
   "metadata": {
    "id": "5hnzc7WF62eJ"
   },
   "outputs": [],
   "source": []
  },
  {
   "cell_type": "markdown",
   "metadata": {
    "id": "JSatR02H67DE"
   },
   "source": [
    "# 5.\n",
    "다음과 같은 피라미드 모양을 for, print를 이용해서 출력하세요.\n",
    "![image.png](data:image/png;base64,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)"
   ]
  },
  {
   "cell_type": "code",
   "execution_count": null,
   "metadata": {
    "colab": {
     "base_uri": "https://localhost:8080/"
    },
    "id": "zzFm1Q467VI_",
    "outputId": "df73cf5e-ce58-4d0c-f108-1626ce64c19c"
   },
   "outputs": [
    {
     "name": "stdout",
     "output_type": "stream",
     "text": [
      "    @\n",
      "   @@@\n",
      "  @@@@@\n",
      " @@@@@@@\n",
      "@@@@@@@@@\n"
     ]
    }
   ],
   "source": [
    "# 코드 작성 하세요!!!!"
   ]
  },
  {
   "cell_type": "code",
   "execution_count": null,
   "metadata": {
    "colab": {
     "base_uri": "https://localhost:8080/"
    },
    "id": "3ZAaxAa87fBO",
    "outputId": "180f802b-a692-4110-983a-1531a35bc046"
   },
   "outputs": [
    {
     "name": "stdout",
     "output_type": "stream",
     "text": [
      "      @\n",
      "     @@@\n",
      "    @@@@@\n",
      "   @@@@@@@\n",
      "  @@@@@@@@@\n"
     ]
    }
   ],
   "source": [
    "for i in range(5):\n",
    "  print(\" \"*(5-i),\"@\"*(i*2+1))"
   ]
  },
  {
   "cell_type": "markdown",
   "metadata": {
    "id": "hS_jBTUh7flE"
   },
   "source": [
    "# 6.\n",
    "a = [20,55,67,82,45,33,90,87,100,25]점수일 때, 50점 이상인 점수들의 합을 구하세요. 단, 아래의 제시한 4가지 방법으로 모두다 수행하세요<br>\n",
    "방법 1 : for/ range사용,<br>\n",
    "방법 2 : for/ 직접 값 사용,<br>\n",
    "방법 3 : list comprehension 적용<br>\n",
    "방법 4 : while사용\n"
   ]
  },
  {
   "cell_type": "code",
   "execution_count": null,
   "metadata": {
    "colab": {
     "base_uri": "https://localhost:8080/"
    },
    "id": "QBGDLYNe7fDw",
    "outputId": "5ccb3bae-c216-4a65-e2dd-c649dad04926"
   },
   "outputs": [
    {
     "data": {
      "text/plain": [
       "[20, 55, 67, 82, 45, 33, 90, 87, 100, 25]"
      ]
     },
     "execution_count": 52,
     "metadata": {},
     "output_type": "execute_result"
    }
   ],
   "source": [
    "a = [20,55,67,82,45,33,90,87,100,25]\n",
    "a"
   ]
  },
  {
   "cell_type": "code",
   "execution_count": null,
   "metadata": {
    "colab": {
     "base_uri": "https://localhost:8080/"
    },
    "id": "pMU56WrI7urv",
    "outputId": "42571e3c-23e8-4054-db76-d6ed0ac9db6a"
   },
   "outputs": [
    {
     "name": "stdout",
     "output_type": "stream",
     "text": [
      "481\n"
     ]
    }
   ],
   "source": [
    "# sol1) 코드 작성하세요\n",
    "a = [20,55,67,82,45,33,90,87,100,25]\n",
    "s=0\n",
    "for i in range(len(a)):\n",
    "  if a[i]>=50:\n",
    "    s+=a[i]\n",
    "print(s)"
   ]
  },
  {
   "cell_type": "code",
   "execution_count": null,
   "metadata": {
    "colab": {
     "base_uri": "https://localhost:8080/"
    },
    "id": "T5N8aY-V7xu4",
    "outputId": "0f78f861-58a6-41aa-cc41-8bd98da8dac6"
   },
   "outputs": [
    {
     "name": "stdout",
     "output_type": "stream",
     "text": [
      "481\n"
     ]
    }
   ],
   "source": [
    "# sol2) 코드작성하세요\n",
    "s=0\n",
    "for i in a:\n",
    "  if i>=50:\n",
    "    s+=i\n",
    "print(s)"
   ]
  },
  {
   "cell_type": "code",
   "execution_count": null,
   "metadata": {
    "colab": {
     "base_uri": "https://localhost:8080/"
    },
    "id": "xmrBZk9Q7xxr",
    "outputId": "1c931c4e-350a-4a76-c69c-340a47e21eb1"
   },
   "outputs": [
    {
     "data": {
      "text/plain": [
       "481"
      ]
     },
     "execution_count": 55,
     "metadata": {},
     "output_type": "execute_result"
    }
   ],
   "source": [
    "# sol3)코드작성하세요\n",
    "sum([i for i in a if i>=50])"
   ]
  },
  {
   "cell_type": "code",
   "execution_count": null,
   "metadata": {
    "colab": {
     "base_uri": "https://localhost:8080/"
    },
    "id": "2wckpYzH7uuk",
    "outputId": "81e0de52-aa14-4f92-cf53-1f850aec4c8a"
   },
   "outputs": [
    {
     "name": "stdout",
     "output_type": "stream",
     "text": [
      "481\n"
     ]
    }
   ],
   "source": [
    "# sol4) 코드작성하세요\n",
    "i = 0\n",
    "s=0\n",
    "while i<len(a):\n",
    "  if a[i]>=50:\n",
    "    s+=a[i]\n",
    "  i+=1\n",
    "print(s)"
   ]
  },
  {
   "cell_type": "code",
   "execution_count": null,
   "metadata": {
    "id": "hxk3qFpj74f6"
   },
   "outputs": [],
   "source": []
  },
  {
   "cell_type": "markdown",
   "metadata": {
    "id": "7ZkkXDmo8G82"
   },
   "source": [
    "# 7.\n",
    "a = [ 100, 300, 150, 200, 500, 800, 300, 200, 100, 450 , 800, 100 ] 의 데이터가 주어졌을 때, 이들 중에서 100, 200, 800, 500, 450, 300 의 값을 제외한 나머지 값들에 대해서 / 100을 값을 아래와 같이 출력하세요~ 아래와 같은 2가지 방법으로 하세요<br>\n",
    "방법1 : for, if etc<br>\n",
    "방법2 : 리스트 컴프리핸션"
   ]
  },
  {
   "cell_type": "code",
   "execution_count": null,
   "metadata": {
    "colab": {
     "base_uri": "https://localhost:8080/"
    },
    "id": "yBDYCSo574iA",
    "outputId": "e992a236-018a-4479-c185-5b28882fb8e3"
   },
   "outputs": [
    {
     "data": {
      "text/plain": [
       "[100, 300, 150, 200, 500, 800, 300, 200, 100, 450, 800, 100]"
      ]
     },
     "execution_count": 86,
     "metadata": {},
     "output_type": "execute_result"
    }
   ],
   "source": [
    "a = [ 100, 300, 150, 200, 500, 800, 300, 200, 100, 450 , 800, 100 ]\n",
    "a"
   ]
  },
  {
   "cell_type": "code",
   "execution_count": null,
   "metadata": {
    "colab": {
     "base_uri": "https://localhost:8080/"
    },
    "id": "bRXjJtzN8Npu",
    "outputId": "3fd69f58-85ab-481d-e281-6c97cf85f95e"
   },
   "outputs": [
    {
     "name": "stdout",
     "output_type": "stream",
     "text": [
      "[1.5]\n"
     ]
    }
   ],
   "source": [
    "#) sol1 코드작성하세요\n",
    "lst =[]\n",
    "for i in a:\n",
    "  if i not in [100,200,800,500,450,300]:\n",
    "    lst.append(i/100)\n",
    "print(lst)"
   ]
  },
  {
   "cell_type": "code",
   "execution_count": null,
   "metadata": {
    "colab": {
     "base_uri": "https://localhost:8080/"
    },
    "id": "FKkcFq168N1B",
    "outputId": "20860b42-48ed-41a8-ad0a-5cd89c06b58d"
   },
   "outputs": [
    {
     "data": {
      "text/plain": [
       "[1.5]"
      ]
     },
     "execution_count": 88,
     "metadata": {},
     "output_type": "execute_result"
    }
   ],
   "source": [
    "# sol2) 코드작성하세요\n",
    "[i/100  for i in a if i not in [100,200,800,500,450,300]]"
   ]
  },
  {
   "cell_type": "code",
   "execution_count": null,
   "metadata": {
    "id": "jnccHEBa8N3P"
   },
   "outputs": [],
   "source": []
  },
  {
   "cell_type": "markdown",
   "metadata": {
    "id": "1BiLweps9Vxc"
   },
   "source": [
    "# 8.\n",
    "A는 기말고사를 보았다. 국어, 수학, 영어, 사회, 과학, 음악, 미술 과목들에 대한 점수를 사용자한테 입력을 받아서, A의 기말고자 평균을 출력해보세요. <br>\n",
    "* 제약사항 : 최대한 변수를 줄여서, 코드를 간결하게 작성해보세요! (너무 무리하지 말고, 보인 생각 기준으로 하시면 됩니다) ==> 반복사항을 잘 고려하고, 이에 대한 자료형에 대한 고민을 하라는 의미임!"
   ]
  },
  {
   "cell_type": "code",
   "execution_count": null,
   "metadata": {
    "colab": {
     "base_uri": "https://localhost:8080/"
    },
    "id": "ZafnFze4975m",
    "outputId": "11592996-1f3e-4727-ae5d-f76de5e49dc9"
   },
   "outputs": [
    {
     "name": "stdout",
     "output_type": "stream",
     "text": [
      "국어점수 입력하세요!!!10\n",
      "수학점수 입력하세요!!!20\n",
      "영어점수 입력하세요!!!30\n",
      "사회점수 입력하세요!!!40\n",
      "과학점수 입력하세요!!!50\n",
      "음악점수 입력하세요!!!60\n",
      "미술점수 입력하세요!!!70\n",
      "40.0\n"
     ]
    }
   ],
   "source": [
    "# 코드작성하세요\n",
    "lct = [\"국어\",\"수학\",\"영어\",\"사회\",\"과학\",\"음악\",\"미술\"]\n",
    "s=0\n",
    "for i in lct:\n",
    "  x = int(input(i+\"점수를 입력하세요!!!\"))\n",
    "  s+=x\n",
    "print(s/len(lct))"
   ]
  },
  {
   "cell_type": "markdown",
   "metadata": {
    "id": "jlXjzoOMBNnQ"
   },
   "source": [
    "# 9.\n",
    "베이킹 대회가 열렸다. 이 대회에 참가한 사람들 중에서 제일 1등을 선발하려고 한다. 입력으로는 심사위원들이 채점한 채점표가 Tuple로 원소(참가자,점수)가 구성이 된 리스트가 주어진게 된다. 단, 심사위원의 수는 가변적임!<br>\n",
    "예: [ (\"A\", 20), (\"B\", 15), (\"A\", 14) ] <br>\n",
    "이러한 상황에서 심사표를 바탕으로 1등 수상자의 이름을 출력하세요<br>\n",
    "설명 : <br>\n",
    "1번 심사위원은 A를 1등으로 선발하였고, 20점을 주었음<br>\n",
    "2번 심사위원은 B를 1등으로 선발하였고, 15점을 주었음<br>\n",
    "3번 심사위원은 A를 1등으로 선발하였고, 14점을 주었음<br><br>\n",
    "선발기준 <br>\n",
    "* 모든 심사위원으로 부터 받은 점수의 총합이 제일 큰 사람이 1등으로 선정<br>\n",
    "* 가정 : 1등에 대한 동점자는 발생하지 않음!<br><br>\n",
    "\n",
    "입력 예시<br>\n",
    "* 1번 입력: [(\"Charles\",10),(\"Conor\",8),\n",
    "(\"Charles\",10),\n",
    "(\"Conor\",5)] <br>\n",
    "* 1번 결과 : \"Charles\"<br>\n",
    "* 1번 설명 : Charles가 2명의 심사위원으로 부터 10+10=20점을, Conor는 8+5 = 13점을 받아서, 최고점인 20점을 받은 Charles가 우승자로 이름 출력 <br><br>\n",
    "\n",
    "\n",
    "* 2번 입력: [ (\"A\", 20), (\"B\", 15), (\"A\", 14) ] <br>\n",
    "* 2번 결과 : \"A\"<br>\n",
    "* 2번 설명 : A가  2명의 심사위원으로 부터 20+14=34점을, B는 15점을 받아서, 최고점인 34점을 받은 A가 우승자로 이름 출력"
   ]
  },
  {
   "cell_type": "code",
   "execution_count": null,
   "metadata": {
    "id": "8pu8dhPD-C9V"
   },
   "outputs": [],
   "source": [
    "# solution9 함수를 작성하세요\n",
    "def solution9(lst):\n",
    "  dic = {}\n",
    "\n",
    "  for i in lst:\n",
    "    if i[0] not in dic:\n",
    "      dic[i[0]] = i[1]\n",
    "    else:\n",
    "      dic[i[0]]+=i[1]\n",
    "\n",
    "  return sorted(dic.items(), key= lambda x : -x[1])[0][0]"
   ]
  },
  {
   "cell_type": "code",
   "execution_count": null,
   "metadata": {
    "colab": {
     "base_uri": "https://localhost:8080/",
     "height": 35
    },
    "id": "BxmO3wp4AQtc",
    "outputId": "02d079a2-3970-41ce-ae63-5ab688ab2bcf"
   },
   "outputs": [
    {
     "data": {
      "application/vnd.google.colaboratory.intrinsic+json": {
       "type": "string"
      },
      "text/plain": [
       "'Charles'"
      ]
     },
     "execution_count": 110,
     "metadata": {},
     "output_type": "execute_result"
    }
   ],
   "source": [
    "input_list_1 = [(\"Charles\",10),(\"Conor\",8), (\"Charles\",10), (\"Conor\",5)]\n",
    "solution9(input_list_1)"
   ]
  },
  {
   "cell_type": "code",
   "execution_count": null,
   "metadata": {
    "colab": {
     "base_uri": "https://localhost:8080/",
     "height": 35
    },
    "id": "ROm2VDrCDfvs",
    "outputId": "4eaa1d67-aa29-4adc-c616-8e87ab779816"
   },
   "outputs": [
    {
     "data": {
      "application/vnd.google.colaboratory.intrinsic+json": {
       "type": "string"
      },
      "text/plain": [
       "'A'"
      ]
     },
     "execution_count": 74,
     "metadata": {},
     "output_type": "execute_result"
    }
   ],
   "source": [
    "input_list_2 = [ (\"A\", 20), (\"B\", 15), (\"A\", 14) ]\n",
    "solution9(input_list_2)"
   ]
  },
  {
   "cell_type": "markdown",
   "metadata": {
    "id": "7dXCuyAZGnF7"
   },
   "source": [
    "# 10.\n",
    "다음은 카카오 2020년도의 인턴쉽 키패드 문제임\n",
    "https://school.programmers.co.kr/learn/courses/30/lessons/67256?language=python3 <br>\n",
    "* 주의사항<br>\n",
    "수업시간에 해결을 했으니, 이번에는 직접 스스로 해결을 해보세요!!!( 기능적인 검색만 하고, 해답에 대한 검색을 하지 마세요!!! )\n",
    "* 제한시간<br>\n",
    "기본적으로 했던 문제이므로, 시간을 10~20분 사이 내에서 해결 할 수 있도록 주어진 시간내에 구현하는 연습도 해보세요!!!"
   ]
  },
  {
   "cell_type": "code",
   "execution_count": null,
   "metadata": {
    "id": "ZR5lO3HLD80p"
   },
   "outputs": [],
   "source": [
    "# solution10 함수를 작성하세요\n",
    "\n",
    "def solution10(lst, hand):\n",
    "  st=''\n",
    "\n",
    "  l,r = \"*\", \"#\"\n",
    "  left = [1,4,7,\"*\"]\n",
    "  right = [3,6,9,\"#\"]\n",
    "  midle = [2,5,8,0]\n",
    "\n",
    "  for i in lst:\n",
    "    if i in left:\n",
    "      st+=\"L\"\n",
    "      l = i\n",
    "\n",
    "    elif i in right:\n",
    "      st+=\"R\"\n",
    "      r = i\n",
    "\n",
    "    else :#중간에 있다.\n",
    "      id_m = midle.index(i)\n",
    "\n",
    "      if l in left: #왼손이 왼쪽에 있으면\n",
    "        id_l = left.index(l)\n",
    "        dif_idx_l = abs(id_m-id_l)\n",
    "      else : # 왼손이 중간에 있으면\n",
    "        id_l = midle.index(l)\n",
    "        dif_idx_l = abs(id_m-id_l)-1\n",
    "\n",
    "      if r in right: #오른손 오른쪽에 있으면\n",
    "         id_r = right.index(r)\n",
    "         dif_idx_r = abs(id_m-id_r)\n",
    "      else : # 오른손이 중간에 있으면\n",
    "         id_r = midle.index(r)\n",
    "         dif_idx_r = abs(id_m- id_r)-1\n",
    "\n",
    "\n",
    "      # 비교\n",
    "      if dif_idx_l < dif_idx_r:\n",
    "        st+=\"L\"\n",
    "        l=i\n",
    "      elif dif_idx_l> dif_idx_r:\n",
    "        st+=\"R\"\n",
    "        r=i\n",
    "      else:\n",
    "        if hand ==\"left\":\n",
    "          st+=\"L\"\n",
    "          l = i\n",
    "        else:\n",
    "          st+=\"R\"\n",
    "          r = i\n",
    "  return st\n"
   ]
  },
  {
   "cell_type": "code",
   "execution_count": null,
   "metadata": {
    "colab": {
     "base_uri": "https://localhost:8080/",
     "height": 35
    },
    "id": "QjsrAioKD83f",
    "outputId": "3908d544-b563-4071-d161-c5f1dfaf901c"
   },
   "outputs": [
    {
     "data": {
      "application/vnd.google.colaboratory.intrinsic+json": {
       "type": "string"
      },
      "text/plain": [
       "'LRLLLRLLRRL'"
      ]
     },
     "execution_count": 76,
     "metadata": {},
     "output_type": "execute_result"
    }
   ],
   "source": [
    "a = [1, 3, 4, 5, 8, 2, 1, 4, 5, 9, 5]\n",
    "b = \"right\"\n",
    "solution10(a,b) #\"LRLLLRLLRRL\""
   ]
  },
  {
   "cell_type": "code",
   "execution_count": null,
   "metadata": {
    "colab": {
     "base_uri": "https://localhost:8080/",
     "height": 35
    },
    "id": "CLxv91RaD85x",
    "outputId": "379ce017-2bd9-45e1-ecee-f6666863ee5b"
   },
   "outputs": [
    {
     "data": {
      "application/vnd.google.colaboratory.intrinsic+json": {
       "type": "string"
      },
      "text/plain": [
       "'LRLLRRLLLRR'"
      ]
     },
     "execution_count": 77,
     "metadata": {},
     "output_type": "execute_result"
    }
   ],
   "source": [
    "a = [7, 0, 8, 2, 8, 3, 1, 5, 7, 6, 2]\n",
    "b = \"left\"\n",
    "solution10(a,b) #\"LRLLRRLLLRR\""
   ]
  },
  {
   "cell_type": "code",
   "execution_count": null,
   "metadata": {
    "id": "LTdjDCN7IO3d"
   },
   "outputs": [],
   "source": [
    "a = [1, 2, 3, 4, 5, 6, 7, 8, 9, 0]\n",
    "b = \"right\"\n",
    "solution10(a,b) #\"LRLLRRLLLRR\""
   ]
  },
  {
   "cell_type": "code",
   "execution_count": null,
   "metadata": {
    "colab": {
     "base_uri": "https://localhost:8080/",
     "height": 35
    },
    "id": "LzlBYqw0yiBa",
    "outputId": "e0f07385-fc5f-4c69-8344-0a10851e5f10"
   },
   "outputs": [
    {
     "data": {
      "application/vnd.google.colaboratory.intrinsic+json": {
       "type": "string"
      },
      "text/plain": [
       "'LLRLLRLLRL'"
      ]
     },
     "execution_count": 131,
     "metadata": {},
     "output_type": "execute_result"
    }
   ],
   "source": [
    "a = [1, 2, 3, 4, 5, 6, 7, 8, 9, 0]\n",
    "b = \"right\"\n",
    "solution10(a,b) #\"LRLLRRLLLRR\""
   ]
  }
 ],
 "metadata": {
  "colab": {
   "provenance": []
  },
  "kernelspec": {
   "display_name": "Python 3 (ipykernel)",
   "language": "python",
   "name": "python3"
  },
  "language_info": {
   "codemirror_mode": {
    "name": "ipython",
    "version": 3
   },
   "file_extension": ".py",
   "mimetype": "text/x-python",
   "name": "python",
   "nbconvert_exporter": "python",
   "pygments_lexer": "ipython3",
   "version": "3.11.7"
  }
 },
 "nbformat": 4,
 "nbformat_minor": 4
}
